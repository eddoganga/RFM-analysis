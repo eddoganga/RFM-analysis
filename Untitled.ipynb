{
 "cells": [
  {
   "cell_type": "code",
   "execution_count": 15,
   "id": "e757fe33",
   "metadata": {},
   "outputs": [],
   "source": [
    "import pandas as pd\n",
    "df = pd.read_csv('rfm_data.csv')"
   ]
  },
  {
   "cell_type": "code",
   "execution_count": 16,
   "id": "da5b90cd",
   "metadata": {},
   "outputs": [
    {
     "name": "stdout",
     "output_type": "stream",
     "text": [
      "   CustomerID PurchaseDate  TransactionAmount ProductInformation  OrderID  \\\n",
      "0        8814   2023-04-11             943.31          Product C   890075   \n",
      "1        2188   2023-04-11             463.70          Product A   176819   \n",
      "2        4608   2023-04-11              80.28          Product A   340062   \n",
      "3        2559   2023-04-11             221.29          Product A   239145   \n",
      "4        9482   2023-04-11             739.56          Product A   194545   \n",
      "\n",
      "   Location  \n",
      "0     Tokyo  \n",
      "1    London  \n",
      "2  New York  \n",
      "3    London  \n",
      "4     Paris  \n"
     ]
    }
   ],
   "source": [
    "# Display the first few rows\n",
    "print(df.head())"
   ]
  },
  {
   "cell_type": "code",
   "execution_count": 17,
   "id": "e2599661",
   "metadata": {},
   "outputs": [
    {
     "name": "stdout",
     "output_type": "stream",
     "text": [
      "   CustomerID  Recency  Frequency  MonetaryValue\n",
      "0        1011       33          2        1129.02\n",
      "1        1025       21          1         359.29\n",
      "2        1029        0          1         704.99\n",
      "3        1046       43          1         859.82\n",
      "4        1049       13          1         225.72\n"
     ]
    }
   ],
   "source": [
    "import datetime as dt\n",
    "# Convert PurchaseDate column to datetime\n",
    "df['PurchaseDate'] = pd.to_datetime(df['PurchaseDate'])\n",
    "\n",
    "# Calculate the current date for recency calculation\n",
    "current_date = df['PurchaseDate'].max()\n",
    "\n",
    "\n",
    "# Create a new column 'Recency' for days since the last purchase\n",
    "df['Recency'] = (current_date - df['PurchaseDate']).dt.days\n",
    "\n",
    "# Calculate RFM values for each customer\n",
    "df = df.groupby('CustomerID').agg({\n",
    "    'PurchaseDate': lambda x: (current_date - x.max()).days,  \n",
    "    'OrderID': 'count',                                      \n",
    "    'TransactionAmount': 'sum'                               \n",
    "}).reset_index()\n",
    "\n",
    "\n",
    "# Rename the columns\n",
    "df.rename(columns={\n",
    "    'PurchaseDate': 'Recency',\n",
    "    'OrderID': 'Frequency',\n",
    "    'TransactionAmount': 'MonetaryValue'\n",
    "}, inplace=True)\n",
    "\n",
    "\n",
    "# Display the RFM data\n",
    "print(df.head())"
   ]
  },
  {
   "cell_type": "code",
   "execution_count": 19,
   "id": "861f985a",
   "metadata": {},
   "outputs": [],
   "source": [
    "from sklearn.preprocessing import StandardScaler\n",
    "\n",
    "scaler = StandardScaler()\n",
    "rfm_scaled = scaler.fit_transform(df)\n",
    "rfm_scaled = pd.DataFrame(rfm_scaled, index=df.index, columns=df.columns)\n"
   ]
  },
  {
   "cell_type": "code",
   "execution_count": 20,
   "id": "a4011ef6",
   "metadata": {},
   "outputs": [],
   "source": [
    "# Create RFM quartiles\n",
    "quantiles = df.quantile(q=[0.25, 0.5, 0.75])\n",
    "quantiles = quantiles.to_dict()\n",
    "\n",
    "# Define functions to assign RFM scores\n",
    "def recency_score(x, column, quantile_dict):\n",
    "    if x <= quantile_dict[column][0.25]:\n",
    "        return 4\n",
    "    elif x <= quantile_dict[column][0.5]:\n",
    "        return 3\n",
    "    elif x <= quantile_dict[column][0.75]:\n",
    "        return 2\n",
    "    else:\n",
    "        return 1\n",
    "\n",
    "def frequency_monetary_score(x, column, quantile_dict):\n",
    "    if x <= quantile_dict[column][0.25]:\n",
    "        return 1\n",
    "    elif x <= quantile_dict[column][0.5]:\n",
    "        return 2\n",
    "    elif x <= quantile_dict[column][0.75]:\n",
    "        return 3\n",
    "    else:\n",
    "        return 4\n",
    "\n",
    "# Calculate RFM scores\n",
    "df['R'] = df['Recency'].apply(recency_score, args=('Recency', quantiles))\n",
    "df['F'] = df['Frequency'].apply(frequency_monetary_score, args=('Frequency', quantiles))\n",
    "df['M'] = df['MonetaryValue'].apply(frequency_monetary_score, args=('MonetaryValue', quantiles))\n",
    "\n",
    "# Calculate RFM Score by combining R, F, and M scores\n",
    "df['RFM_Score'] = df['R'].map(str) + df['F'].map(str) + df['M'].map(str)"
   ]
  },
  {
   "cell_type": "code",
   "execution_count": 22,
   "id": "edc98174",
   "metadata": {},
   "outputs": [
    {
     "name": "stdout",
     "output_type": "stream",
     "text": [
      "     CustomerID  Recency  Frequency  MonetaryValue  R  F  M RFM_Score  \\\n",
      "0          1011       33          2        1129.02  2  4  4       244   \n",
      "1          1025       21          1         359.29  3  1  2       312   \n",
      "2          1029        0          1         704.99  4  1  3       413   \n",
      "3          1046       43          1         859.82  2  1  4       214   \n",
      "4          1049       13          1         225.72  4  1  1       411   \n",
      "..          ...      ...        ...            ... .. .. ..       ...   \n",
      "941        9941       42          1         960.53  2  1  4       214   \n",
      "942        9950       38          1         679.11  2  1  3       213   \n",
      "943        9954       12          1         798.01  4  1  4       414   \n",
      "944        9985       57          1          36.10  1  1  1       111   \n",
      "945        9991       30          1         626.81  3  1  3       313   \n",
      "\n",
      "               Segment  \n",
      "0                Other  \n",
      "1    At-Risk Customers  \n",
      "2                Other  \n",
      "3                Other  \n",
      "4                Other  \n",
      "..                 ...  \n",
      "941              Other  \n",
      "942  At-Risk Customers  \n",
      "943              Other  \n",
      "944     Cant Lose Them  \n",
      "945              Other  \n",
      "\n",
      "[946 rows x 9 columns]\n"
     ]
    }
   ],
   "source": [
    "# Define segments based on RFM scores (e.g., High-Value, At-Risk, etc.)\n",
    "rfm_segments = {\n",
    "    'Best Customers': ['444'],\n",
    "    'Loyal Customers': ['344', '434', '443'],\n",
    "    'Potential Loyalists': ['334', '343'],\n",
    "    'At-Risk Customers': ['211', '122', '132', '213', '312', '321'],\n",
    "    'Cant Lose Them': ['111'],\n",
    "    'Lost Customers': ['233', '322', '231', '132'],\n",
    "    'Promising': ['324', '423', '422', '421', '142', '241', '143']\n",
    "}\n",
    "\n",
    "# Create a function to assign segments based on RFM Score\n",
    "def assign_segment(rfm_score, segments):\n",
    "    for segment, score_list in segments.items():\n",
    "        if rfm_score in score_list:\n",
    "            return segment\n",
    "    return 'Other'\n",
    "\n",
    "# Assign segments to customers\n",
    "df['Segment'] = df['RFM_Score'].apply(assign_segment, segments=rfm_segments)\n",
    "\n",
    "# Display the RFM analysis results\n",
    "print(df)"
   ]
  },
  {
   "cell_type": "code",
   "execution_count": null,
   "id": "1e317ea9",
   "metadata": {},
   "outputs": [],
   "source": []
  }
 ],
 "metadata": {
  "kernelspec": {
   "display_name": "Python 3 (ipykernel)",
   "language": "python",
   "name": "python3"
  },
  "language_info": {
   "codemirror_mode": {
    "name": "ipython",
    "version": 3
   },
   "file_extension": ".py",
   "mimetype": "text/x-python",
   "name": "python",
   "nbconvert_exporter": "python",
   "pygments_lexer": "ipython3",
   "version": "3.11.5"
  }
 },
 "nbformat": 4,
 "nbformat_minor": 5
}
